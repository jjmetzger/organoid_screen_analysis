{
 "cells": [
  {
   "cell_type": "markdown",
   "metadata": {},
   "source": [
    "### Run the trained autoencoder on images and extract latent vectors"
   ]
  },
  {
   "cell_type": "code",
   "execution_count": 1,
   "metadata": {
    "ExecuteTime": {
     "end_time": "2020-06-13T21:44:20.266973Z",
     "start_time": "2020-06-13T21:44:17.078590Z"
    }
   },
   "outputs": [],
   "source": [
    "import numpy as np\n",
    "import torch\n",
    "from torch.autograd import Variable\n",
    "import data_loader as dl\n",
    "import autoencoder\n",
    "import matplotlib.pyplot as plt\n",
    "import re\n",
    "from sklearn.decomposition import PCA"
   ]
  },
  {
   "cell_type": "code",
   "execution_count": 2,
   "metadata": {},
   "outputs": [],
   "source": [
    "datadir = 'data/'"
   ]
  },
  {
   "cell_type": "markdown",
   "metadata": {},
   "source": [
    "load the data"
   ]
  },
  {
   "cell_type": "code",
   "execution_count": 3,
   "metadata": {},
   "outputs": [
    {
     "name": "stdout",
     "output_type": "stream",
     "text": [
      "found 122 files\n"
     ]
    }
   ],
   "source": [
    "image_data = dl.dataloader_3chan_onedir(datadir, bs=4, shuffle=False, num_workers=4, return_filename=True)\n",
    "image_shape = image_data.dataset[0][0].shape[1:]"
   ]
  },
  {
   "cell_type": "markdown",
   "metadata": {},
   "source": [
    "load the autoencoder architecture"
   ]
  },
  {
   "cell_type": "code",
   "execution_count": 4,
   "metadata": {
    "ExecuteTime": {
     "end_time": "2020-06-13T21:46:03.239142Z",
     "start_time": "2020-06-13T21:45:59.106184Z"
    }
   },
   "outputs": [],
   "source": [
    "model = autoencoder.autoencoder(image_shape)\n",
    "if torch.cuda.is_available():\n",
    "    model = model.cuda()"
   ]
  },
  {
   "cell_type": "markdown",
   "metadata": {},
   "source": [
    "load the weights"
   ]
  },
  {
   "cell_type": "code",
   "execution_count": 5,
   "metadata": {
    "ExecuteTime": {
     "end_time": "2020-06-13T21:46:03.590306Z",
     "start_time": "2020-06-13T21:46:03.409683Z"
    }
   },
   "outputs": [],
   "source": [
    "model.load_state_dict(torch.load('ae_results/ae_weights.pth', map_location=torch.device('cpu')));"
   ]
  },
  {
   "cell_type": "markdown",
   "metadata": {},
   "source": [
    "run the autoencoder on the data and split the different categories in separate lists (here different cell types 20CAG and 56CAG)"
   ]
  },
  {
   "cell_type": "code",
   "execution_count": 6,
   "metadata": {},
   "outputs": [],
   "source": [
    "labels = []\n",
    "embeds20 = []\n",
    "embeds56 = []\n",
    "label_type = []\n",
    "\n",
    "with torch.no_grad():\n",
    "    for i1, d in enumerate(iter(image_data)):    \n",
    "        if torch.cuda.is_available():\n",
    "            embeds = model(Variable(d[0]).cuda())[1].data.cpu().numpy()\n",
    "        else:\n",
    "            embeds = model(Variable(d[0]))[1].data.numpy()\n",
    "        \n",
    "        for emb, lab in zip(embeds, d[1]):\n",
    "            if re.findall('(\\d+)CAG',lab)[0] == '20':\n",
    "                embeds20.append(emb)\n",
    "            else:\n",
    "                embeds56.append(emb)\n",
    "            \n",
    "    embeds20 = np.vstack(embeds20)\n",
    "    embeds56 = np.vstack(embeds56)"
   ]
  },
  {
   "cell_type": "markdown",
   "metadata": {},
   "source": [
    "PCA of the latent vectors"
   ]
  },
  {
   "cell_type": "code",
   "execution_count": 7,
   "metadata": {},
   "outputs": [],
   "source": [
    "pca = PCA(n_components=2).fit\n",
    "pca_transform = pca(np.vstack((embeds20,embeds56)))\n",
    "pca_20 = pca_transform.transform(embeds20)\n",
    "pca_56 = pca_transform.transform(embeds56)"
   ]
  },
  {
   "cell_type": "code",
   "execution_count": 8,
   "metadata": {},
   "outputs": [
    {
     "data": {
      "image/png": "[encoded data removed]",
      "text/plain": [
       "<Figure size 300x300 with 1 Axes>"
      ]
     },
     "metadata": {
      "needs_background": "light"
     },
     "output_type": "display_data"
    }
   ],
   "source": [
    "fig,ax = plt.subplots(figsize=(3,3))\n",
    "ax.scatter(pca_20[:,0], pca_20[:,1])\n",
    "ax.scatter(pca_56[:,0], pca_56[:,1])\n",
    "ax.set_xlabel('PC$_1$')\n",
    "ax.set_ylabel('PC$_2$')\n",
    "ax.legend(['20CAG', '56CAG'], bbox_to_anchor=(1,1));"
   ]
  }
 ],
 "metadata": {
  "kernelspec": {
   "display_name": "fastai3",
   "language": "python",
   "name": "fastai3"
  },
  "language_info": {
   "codemirror_mode": {
    "name": "ipython",
    "version": 3
   },
   "file_extension": ".py",
   "mimetype": "text/x-python",
   "name": "python",
   "nbconvert_exporter": "python",
   "pygments_lexer": "ipython3",
   "version": "3.6.10"
  },
  "toc": {
   "base_numbering": 1,
   "nav_menu": {},
   "number_sections": true,
   "sideBar": true,
   "skip_h1_title": false,
   "title_cell": "Table of Contents",
   "title_sidebar": "Contents",
   "toc_cell": false,
   "toc_position": {},
   "toc_section_display": "block",
   "toc_window_display": false
  }
 },
 "nbformat": 4,
 "nbformat_minor": 2
}
